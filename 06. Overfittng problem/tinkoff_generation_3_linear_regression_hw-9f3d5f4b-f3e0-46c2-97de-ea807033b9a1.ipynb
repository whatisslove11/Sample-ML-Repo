{
 "cells": [
  {
   "cell_type": "markdown",
   "metadata": {
    "id": "ymo3txVFu5qB"
   },
   "source": [
    "### (0 баллов) Считываем данные"
   ]
  },
  {
   "cell_type": "code",
   "execution_count": 23,
   "metadata": {
    "id": "Yb2QHE2Su5qE"
   },
   "outputs": [
    {
     "data": {
      "text/html": [
       "        <script type=\"text/javascript\">\n",
       "        window.PlotlyConfig = {MathJaxConfig: 'local'};\n",
       "        if (window.MathJax) {MathJax.Hub.Config({SVG: {font: \"STIX-Web\"}});}\n",
       "        if (typeof require !== 'undefined') {\n",
       "        require.undef(\"plotly\");\n",
       "        requirejs.config({\n",
       "            paths: {\n",
       "                'plotly': ['https://cdn.plot.ly/plotly-2.9.0.min']\n",
       "            }\n",
       "        });\n",
       "        require(['plotly'], function(Plotly) {\n",
       "            window._Plotly = Plotly;\n",
       "        });\n",
       "        }\n",
       "        </script>\n",
       "        "
      ]
     },
     "metadata": {},
     "output_type": "display_data"
    }
   ],
   "source": [
    "import numpy as np\n",
    "import pandas as pd\n",
    "from sklearn.model_selection import train_test_split\n",
    "\n",
    "from plotly.offline import init_notebook_mode, iplot, plot\n",
    "import plotly as py\n",
    "init_notebook_mode(connected=True)\n",
    "import plotly.graph_objs as go\n",
    "import plotly.express as px\n",
    "import plotly.figure_factory as ff\n",
    "\n",
    "\n",
    "import matplotlib.pyplot as plt\n",
    "import os"
   ]
  },
  {
   "cell_type": "code",
   "execution_count": 24,
   "metadata": {
    "id": "FMxbEARwu5qN",
    "outputId": "5a47a944-b871-48e7-beda-ea4a7a371c77",
    "scrolled": true
   },
   "outputs": [
    {
     "data": {
      "text/plain": [
       "dict_keys(['data', 'target', 'feature_names', 'DESCR', 'filename'])"
      ]
     },
     "execution_count": 24,
     "metadata": {},
     "output_type": "execute_result"
    }
   ],
   "source": [
    "from sklearn.datasets import load_boston\n",
    "\n",
    "dataset = load_boston()\n",
    "dataset.keys()"
   ]
  },
  {
   "cell_type": "markdown",
   "metadata": {
    "id": "TsknjFrGu5qd"
   },
   "source": [
    "Каждая квартира имеет 13 признаков:"
   ]
  },
  {
   "cell_type": "code",
   "execution_count": 25,
   "metadata": {},
   "outputs": [],
   "source": [
    "#dataset"
   ]
  },
  {
   "cell_type": "code",
   "execution_count": 26,
   "metadata": {
    "id": "7MxiIMnqu5qg",
    "outputId": "e30a18d0-eff2-4f12-ae4f-1ace9dac6faf"
   },
   "outputs": [],
   "source": [
    "X = dataset['data']\n",
    "#X[:10]"
   ]
  },
  {
   "cell_type": "code",
   "execution_count": 27,
   "metadata": {
    "id": "75Jufw6Ru5qn",
    "outputId": "65d010cc-56c8-4328-a83e-d7f7208abf64"
   },
   "outputs": [
    {
     "data": {
      "text/plain": [
       "array(['CRIM', 'ZN', 'INDUS', 'CHAS', 'NOX', 'RM', 'AGE', 'DIS', 'RAD',\n",
       "       'TAX', 'PTRATIO', 'B', 'LSTAT'], dtype='<U7')"
      ]
     },
     "execution_count": 27,
     "metadata": {},
     "output_type": "execute_result"
    }
   ],
   "source": [
    "dataset['feature_names']"
   ]
  },
  {
   "cell_type": "code",
   "execution_count": 28,
   "metadata": {
    "id": "LkrWnw3nu5qu",
    "outputId": "486ef43f-f39e-44a7-f6c9-09377ba2e530"
   },
   "outputs": [
    {
     "name": "stdout",
     "output_type": "stream",
     "text": [
      ".. _boston_dataset:\n",
      "\n",
      "Boston house prices dataset\n",
      "---------------------------\n",
      "\n",
      "**Data Set Characteristics:**  \n",
      "\n",
      "    :Number of Instances: 506 \n",
      "\n",
      "    :Number of Attributes: 13 numeric/categorical predictive. Median Value (attribute 14) is usually the target.\n",
      "\n",
      "    :Attribute Information (in order):\n",
      "        - CRIM     per capita crime rate by town\n",
      "        - ZN       proportion of residential land zoned for lots over 25,000 sq.ft.\n",
      "        - INDUS    proportion of non-retail business acres per town\n",
      "        - CHAS     Charles River dummy variable (= 1 if tract bounds river; 0 otherwise)\n",
      "        - NOX      nitric oxides concentration (parts per 10 million)\n",
      "        - RM       average number of rooms per dwelling\n",
      "        - AGE      proportion of owner-occupied units built prior to 1940\n",
      "        - DIS      weighted distances to five Boston employment centres\n",
      "        - RAD      index of accessibility to radial highways\n",
      "        - TAX      full-value property-tax rate per $10,000\n",
      "        - PTRATIO  pupil-teacher ratio by town\n",
      "        - B        1000(Bk - 0.63)^2 where Bk is the proportion of black people by town\n",
      "        - LSTAT    % lower status of the population\n",
      "        - MEDV     Median value of owner-occupied homes in $1000's\n",
      "\n",
      "    :Missing Attribute Values: None\n",
      "\n",
      "    :Creator: Harrison, D. and Rubinfeld, D.L.\n",
      "\n",
      "This is a copy of UCI ML housing dataset.\n",
      "https://archive.ics.uci.edu/ml/machine-learning-databases/housing/\n",
      "\n",
      "\n",
      "This dataset was taken from the StatLib library which is maintained at Carnegie Mellon University.\n",
      "\n",
      "The Boston house-price data of Harrison, D. and Rubinfeld, D.L. 'Hedonic\n",
      "prices and the demand for clean air', J. Environ. Economics & Management,\n",
      "vol.5, 81-102, 1978.   Used in Belsley, Kuh & Welsch, 'Regression diagnostics\n",
      "...', Wiley, 1980.   N.B. Various transformations are used in the table on\n",
      "pages 244-261 of the latter.\n",
      "\n",
      "The Boston house-price data has been used in many machine learning papers that address regression\n",
      "problems.   \n",
      "     \n",
      ".. topic:: References\n",
      "\n",
      "   - Belsley, Kuh & Welsch, 'Regression diagnostics: Identifying Influential Data and Sources of Collinearity', Wiley, 1980. 244-261.\n",
      "   - Quinlan,R. (1993). Combining Instance-Based and Model-Based Learning. In Proceedings on the Tenth International Conference of Machine Learning, 236-243, University of Massachusetts, Amherst. Morgan Kaufmann.\n",
      "\n"
     ]
    }
   ],
   "source": [
    "print(dataset['DESCR'])"
   ]
  },
  {
   "cell_type": "markdown",
   "metadata": {
    "id": "Jk3U9ixpu5q1"
   },
   "source": [
    "Хочется научиться предсказывать функцию цены квартиры. Предположительно, она зависит как-то от этих признаков."
   ]
  },
  {
   "cell_type": "code",
   "execution_count": 29,
   "metadata": {
    "id": "IiRlvgpRu5q3",
    "outputId": "4623f275-7a0a-41a2-a415-9214bee3cc05"
   },
   "outputs": [
    {
     "data": {
      "text/plain": [
       "array([24. , 21.6, 34.7, 33.4, 36.2, 28.7, 22.9, 27.1, 16.5, 18.9])"
      ]
     },
     "execution_count": 29,
     "metadata": {},
     "output_type": "execute_result"
    }
   ],
   "source": [
    "y = dataset['target']\n",
    "y[:10]"
   ]
  },
  {
   "cell_type": "markdown",
   "metadata": {
    "id": "ZOa7_r4Tu5q_"
   },
   "source": [
    "### (1 балл) Разделите данные на тренировочную и тестовую части.\n",
    "\n",
    "Тестовая часть должна составлять 10% выборки.\n"
   ]
  },
  {
   "cell_type": "code",
   "execution_count": 30,
   "metadata": {
    "id": "mgUs1nPIu5rA"
   },
   "outputs": [],
   "source": [
    "X_train, X_test, y_train, y_test = train_test_split(X, y, test_size=0.1)"
   ]
  },
  {
   "cell_type": "markdown",
   "metadata": {
    "id": "krV_juMIu5rE"
   },
   "source": [
    "### (1 балл) Обучение и применение модели\n",
    "Обучите модель линейной регрессии на тренировочной части и предскажите результаты на тестовой части.\n",
    "\n"
   ]
  },
  {
   "cell_type": "code",
   "execution_count": 31,
   "metadata": {
    "id": "Fy-BCb2qu5rL"
   },
   "outputs": [],
   "source": [
    "from sklearn.linear_model import LinearRegression\n",
    "from sklearn.metrics import r2_score\n",
    "\n",
    "sklearn_model = LinearRegression().fit(X_train, y_train)\n",
    "y_pred = sklearn_model.predict(X_test)"
   ]
  },
  {
   "cell_type": "markdown",
   "metadata": {
    "id": "XDeX09VWu5rQ"
   },
   "source": [
    "### (2 балл) Валидация результата\n",
    "\n",
    "Напишите свою функцию MSE, убедитесь, что она совпадает с реализацией из sklearn и посчитайте своей результат на тестовой части."
   ]
  },
  {
   "cell_type": "code",
   "execution_count": 32,
   "metadata": {
    "id": "HAES_JkYu5rR"
   },
   "outputs": [],
   "source": [
    "from sklearn.metrics import mean_squared_error\n",
    "def MSE(y_real, y_pred):\n",
    "    return sum((np.array(y_real)-np.array(y_pred))**2)/len(y_real)"
   ]
  },
  {
   "cell_type": "code",
   "execution_count": 33,
   "metadata": {
    "id": "pFMWm9pYu5rV"
   },
   "outputs": [
    {
     "data": {
      "text/plain": [
       "17.891319010827466"
      ]
     },
     "execution_count": 33,
     "metadata": {},
     "output_type": "execute_result"
    }
   ],
   "source": [
    "sklearn_mse = mean_squared_error(y_test, y_pred)\n",
    "sklearn_mse1 = MSE(y_test, y_pred)\n",
    "\n",
    "sklearn_mse1"
   ]
  },
  {
   "cell_type": "markdown",
   "metadata": {
    "id": "eYQjX7TJu5rZ"
   },
   "source": [
    "Насколько хорошо вы предсказали цену? Сравните с наивным алгоритмом (предсказать среднюю цену на тренировочной части вне зависимости от признаков)."
   ]
  },
  {
   "cell_type": "code",
   "execution_count": 34,
   "metadata": {
    "id": "7tc7bt-ju5ra"
   },
   "outputs": [
    {
     "data": {
      "text/plain": [
       "61.660542679495144"
      ]
     },
     "execution_count": 34,
     "metadata": {},
     "output_type": "execute_result"
    }
   ],
   "source": [
    "MSE(y_test, y_pred.mean())"
   ]
  },
  {
   "cell_type": "markdown",
   "metadata": {},
   "source": [
    "Наивный алгоритм по точности предсказаний в 3,5 раз наименее точен, нежели регрессия"
   ]
  },
  {
   "cell_type": "markdown",
   "metadata": {
    "id": "V0IP6MObu5rj"
   },
   "source": [
    "### (2 балла) Улучшите результат.\n",
    "\n",
    "Возможно, происходит переобучение, попробуйте применить регуляризацию, чтобы улучшить результат (то есть используйте Ridge вместо LinearRegression).\n",
    "\n",
    "Нарисуйте график зависимости MSE от коэффициента регуляризации."
   ]
  },
  {
   "cell_type": "code",
   "execution_count": 44,
   "metadata": {
    "id": "j6_FJvpWu5rk"
   },
   "outputs": [
    {
     "data": {
      "text/plain": [
       "[17.721781882812678,\n",
       " 16.192852984444347,\n",
       " 15.920626062117472,\n",
       " 15.752418685263242,\n",
       " 15.644788860220856,\n",
       " 15.577159953980127,\n",
       " 15.537113364485881,\n",
       " 15.516511032338181,\n",
       " 15.509788569697399,\n",
       " 15.513037968306332,\n",
       " 15.523462133171734,\n",
       " 15.539030466940318,\n",
       " 15.558252562616047,\n",
       " 15.580025150164456,\n",
       " 15.60352625183597,\n",
       " 15.628140650950346,\n",
       " 15.653406610168318,\n",
       " 15.67897728324269,\n",
       " 15.704592450130875,\n",
       " 15.730057606014505,\n",
       " 15.755228353093186,\n",
       " 15.779998657871928,\n",
       " 15.804291953899554,\n",
       " 15.828054357712615,\n",
       " 15.851249466868186]"
      ]
     },
     "execution_count": 44,
     "metadata": {},
     "output_type": "execute_result"
    }
   ],
   "source": [
    "from sklearn.linear_model import Ridge\n",
    "\n",
    "lambdas = np.arange(0.1, 250.0, 10)\n",
    "lambda_errors = [] #хранилище mse\n",
    "alphas = [] #хранилище параметра регуляризации\n",
    "\n",
    "for val in lambdas:\n",
    "    model = Ridge(alpha=val).fit(X_train, y_train)\n",
    "    y_pred = model.predict(X_test)\n",
    "    lambda_errors.append(mean_squared_error(y_test, y_pred))\n",
    "    alphas.append(val)\n",
    "\n",
    "lambda_errors"
   ]
  },
  {
   "cell_type": "code",
   "execution_count": 38,
   "metadata": {},
   "outputs": [
    {
     "data": {
      "text/plain": [
       "[<matplotlib.lines.Line2D at 0x2cc564b1a30>]"
      ]
     },
     "execution_count": 38,
     "metadata": {},
     "output_type": "execute_result"
    },
    {
     "data": {
      "image/png": "[encoded data removed]",
      "text/plain": [
       "<Figure size 432x288 with 1 Axes>"
      ]
     },
     "metadata": {
      "needs_background": "light"
     },
     "output_type": "display_data"
    }
   ],
   "source": [
    "plt.plot(alphas, lambda_errors)"
   ]
  },
  {
   "cell_type": "markdown",
   "metadata": {},
   "source": [
    "Не ну мы упрямые. мы попробуем Лассо еще долбануть"
   ]
  },
  {
   "cell_type": "code",
   "execution_count": 39,
   "metadata": {},
   "outputs": [
    {
     "data": {
      "text/plain": [
       "[16.038376348001115,\n",
       " 20.50136315470709,\n",
       " 26.85103681817619,\n",
       " 38.60831719136017,\n",
       " 41.97406506843991,\n",
       " 43.29339831928603,\n",
       " 43.63320337011909,\n",
       " 43.995687354986366,\n",
       " 44.380918660297155,\n",
       " 44.7887386958638,\n",
       " 45.21924407884329,\n",
       " 45.67243523163822,\n",
       " 46.148340925342374,\n",
       " 46.490035024288034,\n",
       " 46.5606137568599,\n",
       " 46.63725131881143,\n",
       " 46.719947710142634,\n",
       " 46.80870293085351,\n",
       " 46.9035169809441,\n",
       " 47.004389860414335,\n",
       " 47.11132156926428,\n",
       " 47.22431210749388,\n",
       " 47.34336147510318,\n",
       " 47.46846967209215,\n",
       " 47.599636698460785]"
      ]
     },
     "execution_count": 39,
     "metadata": {},
     "output_type": "execute_result"
    }
   ],
   "source": [
    "from sklearn.linear_model import Lasso\n",
    "\n",
    "lambdas = np.arange(0.1, 250.0, 10)\n",
    "lambda_errors = [] #хранилище mse\n",
    "alphas = [] #хранилище параметра регуляризации\n",
    "\n",
    "for val in lambdas:\n",
    "    model = Lasso(alpha=val).fit(X_train, y_train)\n",
    "    y_pred = model.predict(X_test)\n",
    "    lambda_errors.append(mean_squared_error(y_test, y_pred))\n",
    "    alphas.append(val)\n",
    "    \n",
    "lambda_errors"
   ]
  },
  {
   "cell_type": "code",
   "execution_count": 40,
   "metadata": {},
   "outputs": [
    {
     "data": {
      "text/plain": [
       "[<matplotlib.lines.Line2D at 0x2cc56519820>]"
      ]
     },
     "execution_count": 40,
     "metadata": {},
     "output_type": "execute_result"
    },
    {
     "data": {
      "image/png": "[encoded data removed]",
      "text/plain": [
       "<Figure size 432x288 with 1 Axes>"
      ]
     },
     "metadata": {
      "needs_background": "light"
     },
     "output_type": "display_data"
    }
   ],
   "source": [
    "plt.plot(alphas, lambda_errors)"
   ]
  },
  {
   "cell_type": "markdown",
   "metadata": {
    "id": "EXvkpimau5rn"
   },
   "source": [
    "Помогает ли регуляризация? Какой коэффициент регуляризации надо выбрать, чтобы ошибка была минимальной? Чему при этом равна ошибка? Напишите выводы о проведенных экспериментах"
   ]
  },
  {
   "cell_type": "markdown",
   "metadata": {
    "id": "EkiNXk1Qu5rp"
   },
   "source": [
    "Регуляризация (Ridge, но не Lasso) в данном случае помогает - не сильно, но помогает\n",
    "Рассмотрим оба варианта регрессии в сравнении с регрессией без регуляризации подробнее.\n",
    "\n",
    "1. Ridge\n",
    "Лучшее alpha для использования - 80.1, ошибка при этом равна 15.50 против 17.89 в обычной регрессии\n",
    "\n",
    "2. Lasso\n",
    "Тут вообще дичь - минимальная ошибка 16.03, что уже больше минимальной ошибки при Ridge регрессии - однако при повышении кф регуляризации начиается творитьс дичь\n",
    "\n",
    "Вывод: лучше справляется Ridge регресися, но ввиду не сильно большой разницы можно использовать и оычную регрессию без регуляризации"
   ]
  },
  {
   "cell_type": "code",
   "execution_count": null,
   "metadata": {},
   "outputs": [],
   "source": []
  }
 ],
 "metadata": {
  "colab": {
   "collapsed_sections": [],
   "name": "Tinkoff_Generation_3_linear_regression_HW",
   "provenance": []
  },
  "kernelspec": {
   "display_name": "Python 3 (ipykernel)",
   "language": "python",
   "name": "python3"
  },
  "language_info": {
   "codemirror_mode": {
    "name": "ipython",
    "version": 3
   },
   "file_extension": ".py",
   "mimetype": "text/x-python",
   "name": "python",
   "nbconvert_exporter": "python",
   "pygments_lexer": "ipython3",
   "version": "3.9.7"
  }
 },
 "nbformat": 4,
 "nbformat_minor": 1
}
